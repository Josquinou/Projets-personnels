{
 "cells": [
  {
   "cell_type": "code",
   "execution_count": null,
   "metadata": {},
   "outputs": [
    {
     "name": "stdout",
     "output_type": "stream",
     "text": [
      "pygame 2.4.0 (SDL 2.26.4, Python 3.10.11)\n",
      "Hello from the pygame community. https://www.pygame.org/contribute.html\n"
     ]
    }
   ],
   "source": [
    "import numpy as np\n",
    "import pygame"
   ]
  },
  {
   "cell_type": "markdown",
   "metadata": {},
   "source": [
    "# Code de la dynamique de la simulation"
   ]
  },
  {
   "cell_type": "code",
   "execution_count": 2,
   "metadata": {},
   "outputs": [],
   "source": [
    "def count(matrix, idx:tuple):\n",
    "    \"\"\"\n",
    "    Matrix: La matrice à la génération voulue\n",
    "    Idx: Coordonnées (i,j) de la cellule étudiée\n",
    "    On compte le nombre de cellules voisines vivantes de la cellule étudiée\n",
    "    \"\"\"\n",
    "    i, j = idx\n",
    "    v = 0 # initialisation du nombre de cellules voisines vivantes\n",
    "    for k in [-1, 0, 1]:\n",
    "        for l in [-1, 0, 1]:\n",
    "            if k != 0 or l != 0:\n",
    "                if matrix[np.mod(i+k, len(matrix)),np.mod(j+l, len(matrix[0]))] == 1: # on intruduit un modulo de manière à ne pas dépasser les bords dans le décompte des indices. On aura donc un monde dont les extrêmités se rejoignent.\n",
    "                    v += 1\n",
    "    return v\n",
    "                \n",
    "        "
   ]
  },
  {
   "cell_type": "code",
   "execution_count": 3,
   "metadata": {},
   "outputs": [],
   "source": [
    "def life(matrix, idx:tuple):\n",
    "    \"\"\"\n",
    "    Matrix: La matrice à la génération voulue\n",
    "    Idx: Coordonnées (i,j) de la cellule étudiée\n",
    "    On décide de la survie / naissance / mort d'une cellule\n",
    "    \"\"\"\n",
    "    i, j = idx\n",
    "    state = matrix[i,j]\n",
    "    v = count(matrix, idx)\n",
    "    if v == 2:\n",
    "        return state\n",
    "    if v == 3:\n",
    "        return 1\n",
    "    else:\n",
    "        return 0"
   ]
  },
  {
   "cell_type": "code",
   "execution_count": 4,
   "metadata": {},
   "outputs": [],
   "source": [
    "def next_matrix(matrix):\n",
    "    \"\"\"\n",
    "    On crée une nouvelle matrice correspondant à l'instant d'après celle qu'on lui donne\n",
    "    \"\"\"\n",
    "    next_matrix = np.zeros((len(matrix), len(matrix[0])))\n",
    "    for i in range(len(matrix)):\n",
    "        for j in range(len(matrix[0])):\n",
    "            next_matrix[i,j] = life(matrix, (i,j))\n",
    "    return next_matrix"
   ]
  },
  {
   "cell_type": "code",
   "execution_count": 5,
   "metadata": {},
   "outputs": [],
   "source": [
    "def game_all_frames(matrix, nb_gen): # ça c'est pas nécessaire\n",
    "    \"\"\"\n",
    "    On enregistre les différents états de la matrice au fil des générations\n",
    "    \"\"\"\n",
    "    all_frames = np.zeros((nb_gen+1, len(matrix) ,len(matrix[0])))\n",
    "    all_frames[0] = matrix\n",
    "    last_matrix = matrix\n",
    "    for gen in range(nb_gen):\n",
    "        all_frames[gen+1] = next_matrix(all_frames[gen])\n",
    "    return all_frames"
   ]
  },
  {
   "cell_type": "code",
   "execution_count": 6,
   "metadata": {},
   "outputs": [],
   "source": [
    "matrice2 = np.random.randint(0, 2, (155, 80))"
   ]
  },
  {
   "cell_type": "code",
   "execution_count": 7,
   "metadata": {},
   "outputs": [],
   "source": [
    "def glider():\n",
    "    matrice2[0,0] = 1\n",
    "    matrice2[0,1] = 1\n",
    "    matrice2[1,1] = 1\n",
    "    matrice2[1,2] = 1\n",
    "    matrice2[2,0] = 1"
   ]
  },
  {
   "cell_type": "markdown",
   "metadata": {},
   "source": [
    "# Affichage de la simulation"
   ]
  },
  {
   "cell_type": "code",
   "execution_count": null,
   "metadata": {},
   "outputs": [],
   "source": [
    "pygame.init() # jsp trop pk mais ok\n",
    "start_matrix = matrice2.copy()\n",
    "matrix = start_matrix.copy()\n",
    "pixel_size = 10\n",
    "max_scale = (pixel_size*len(matrix), pixel_size*len(matrix[0]))\n",
    "win = pygame.display.set_mode(max_scale) # définition de la taille de win (la fenêtre de jeu)\n",
    "pygame.display.set_caption(\"Game python\") # nom du jeu\n",
    "run = True\n",
    "time_delay = 5\n",
    "pause = False\n",
    "p_pressed = False\n",
    "mouse_pressed = False\n",
    "space_pressed = False\n",
    "r_pressed = False\n",
    "\n",
    "def drawGame():\n",
    "      win.fill((0, 0, 0))\n",
    "      for i in range(len(matrix)):\n",
    "            for j in range(len(matrix[0])):\n",
    "                  if matrix[i,j] == 1:\n",
    "                        pygame.draw.rect(win, (255, 255, 255), (i*pixel_size, j*pixel_size, pixel_size, pixel_size))\n",
    "      # ici il faudra mettre l'état de la matrice\n",
    "      pygame.display.update()\n",
    "\n",
    "\n",
    "            \n",
    "\n",
    "while run:\n",
    "      pygame.time.delay(time_delay)\n",
    "      keys = pygame.key.get_pressed()\n",
    "      \n",
    "      for event in pygame.event.get():\n",
    "            if event.type == pygame.QUIT:\n",
    "                  run = False\n",
    "      \n",
    "      \n",
    "      if keys[pygame.K_p]:\n",
    "            p_pressed = True\n",
    "      if p_pressed:\n",
    "            if not keys[pygame.K_p]:\n",
    "                  p_pressed = False\n",
    "                  pause = not pause # on inverse la valeur de pause, cela évite les conditions de vérification pour savoir dans quel état mettre pause\n",
    "      \n",
    "      if keys[pygame.K_SPACE]:\n",
    "            space_pressed = True\n",
    "      if space_pressed:\n",
    "            if not keys[pygame.K_SPACE]:\n",
    "                  space_pressed = False\n",
    "                  matrix = np.zeros((len(matrix),len(matrix[0])))\n",
    "\n",
    "      if keys[pygame.K_r]:\n",
    "            r_pressed = True\n",
    "      if r_pressed:\n",
    "            if not keys[pygame.K_r]:\n",
    "                  r_pressed = False\n",
    "                  matrix = start_matrix\n",
    "      \n",
    "      if pygame.mouse.get_pressed()[0]:\n",
    "            mouse_pressed = True\n",
    "      \n",
    "      if mouse_pressed and not pygame.mouse.get_pressed()[0]:\n",
    "            mouse_pressed = False\n",
    "            n, m = pygame.mouse.get_pos()\n",
    "            n //= pixel_size\n",
    "            m//= pixel_size\n",
    "            if matrix[n,m] == 0:\n",
    "                  matrix[n,m] = 1\n",
    "            else:\n",
    "                  matrix[n,m] = 0\n",
    "            drawGame()\n",
    "                  \n",
    "            \n",
    "      if not pause:\n",
    "            matrix = next_matrix(matrix)\n",
    "            drawGame()\n",
    "          \n",
    "pygame.quit()   "
   ]
  },
  {
   "cell_type": "markdown",
   "metadata": {},
   "source": [
    "#### Commandes:  \n",
    "- Cliquer sur une cellule pour changer son état (vivante ou morte)\n",
    "- \"p\" pour mettre sur pause\n",
    "- \"r\" pour redémarrer la simulation avec la matrice d'origine\n",
    "- touche espace pour effacer toutes les cellules"
   ]
  },
  {
   "cell_type": "markdown",
   "metadata": {},
   "source": [
    "# Autre méthode"
   ]
  },
  {
   "cell_type": "code",
   "execution_count": null,
   "metadata": {},
   "outputs": [],
   "source": [
    "def next_dic(dic, shape):\n",
    "    trans_dic = dict()\n",
    "    final_dic = dict()\n",
    "    for elt in dic:\n",
    "        i,j = elt\n",
    "        for idx in [(-1,-1), (-1,0), (-1,1), (0,-1), (0,1), (1,-1), (1,0), (1,1)]:\n",
    "            k,l = idx\n",
    "            trans_dic[(np.mod(i+k, shape[0]), np.mod(j+l, shape[1]))] = trans_dic.get((np.mod(i+k, shape[0]), np.mod(j+l, shape[1])), 0) + 1 # on va chercher l'élément (i+k, j+l)\n",
    "    for elt in trans_dic.items():\n",
    "        key, value = elt\n",
    "        if value == 2:\n",
    "            try:\n",
    "                final_dic[key] = dic[key] # si la cellule a deux voisins, elle ne change pas d'état\n",
    "            except KeyError:\n",
    "                pass\n",
    "        elif value == 3: # si la cellule a trois voisins, elle reste / devient vivante\n",
    "            final_dic[key] = 1\n",
    "            # par souci d'optimisation, on ne tient pas compte des cellules mortes donc pas besoin de regarder les autres cas\n",
    "    return final_dic\n",
    "            "
   ]
  },
  {
   "cell_type": "code",
   "execution_count": null,
   "metadata": {},
   "outputs": [],
   "source": [
    "def matrix_as_dic(matrix):\n",
    "    dic = dict()\n",
    "    for i in range(len(matrix)):\n",
    "        for j in range(len(matrix[0])):\n",
    "            if matrix[i,j] == 1:\n",
    "                dic[i,j] = 1\n",
    "    return dic\n",
    "    "
   ]
  },
  {
   "cell_type": "code",
   "execution_count": null,
   "metadata": {},
   "outputs": [],
   "source": [
    "matrice2 = np.random.randint(0, 2, (50, 50))"
   ]
  },
  {
   "cell_type": "markdown",
   "metadata": {},
   "source": [
    "# Affichage selon la seconde méthode"
   ]
  },
  {
   "cell_type": "code",
   "execution_count": null,
   "metadata": {},
   "outputs": [],
   "source": [
    "pygame.init() # jsp trop pk mais ok\n",
    "start_matrix = matrice2.copy()\n",
    "matrix = start_matrix.copy()\n",
    "dic = matrix_as_dic(matrix)\n",
    "pixel_size = 10\n",
    "max_scale = (pixel_size*len(matrix), pixel_size*len(matrix[0]))\n",
    "win = pygame.display.set_mode(max_scale) # définition de la taille de win (la fenêtre de jeu)\n",
    "pygame.display.set_caption(\"Game python\") # nom du jeu\n",
    "run = True\n",
    "time_delay = 5\n",
    "pause = False\n",
    "p_pressed = False\n",
    "mouse_pressed = False\n",
    "space_pressed = False\n",
    "r_pressed = False\n",
    "\n",
    "\n",
    "def drawGame():\n",
    "      win.fill((0, 0, 0))\n",
    "      for coordinates in dic:\n",
    "            i,j = coordinates\n",
    "            pygame.draw.rect(win, (255, 255, 255), (i*pixel_size, j*pixel_size, pixel_size, pixel_size))\n",
    "      # ici il faudra mettre l'état de la matrice\n",
    "      pygame.display.update()\n",
    "\n",
    "\n",
    "            \n",
    "while run:\n",
    "      pygame.time.delay(time_delay)\n",
    "      keys = pygame.key.get_pressed()\n",
    "      \n",
    "      for event in pygame.event.get():\n",
    "            if event.type == pygame.QUIT:\n",
    "                  run = False\n",
    "      \n",
    "      \n",
    "      if keys[pygame.K_p]:\n",
    "            p_pressed = True\n",
    "      if p_pressed:\n",
    "            if not keys[pygame.K_p]:\n",
    "                  p_pressed = False\n",
    "                  pause = not pause # on inverse la valeur de pause, cela évite les conditions de vérification pour savoir dans quel état mettre pause\n",
    "      \n",
    "      if keys[pygame.K_SPACE]:\n",
    "            space_pressed = True\n",
    "      if space_pressed:\n",
    "            if not keys[pygame.K_SPACE]:\n",
    "                  space_pressed = False\n",
    "                  dic = dict()\n",
    "                  drawGame()\n",
    "\n",
    "      if keys[pygame.K_r]:\n",
    "            r_pressed = True\n",
    "      if r_pressed:\n",
    "            if not keys[pygame.K_r]:\n",
    "                  r_pressed = False\n",
    "                  dic = matrix_as_dic(start_matrix)\n",
    "                  drawGame()\n",
    "      \n",
    "      if pygame.mouse.get_pressed()[0]:\n",
    "            mouse_pressed = True\n",
    "      \n",
    "      if mouse_pressed and not pygame.mouse.get_pressed()[0]:\n",
    "            mouse_pressed = False\n",
    "            n, m = pygame.mouse.get_pos()\n",
    "            n //= pixel_size\n",
    "            m//= pixel_size\n",
    "            if (n,m) not in dic:\n",
    "                  dic[(n,m)] = 1\n",
    "            else:\n",
    "                  dic.pop((n,m))\n",
    "            drawGame()\n",
    "                  \n",
    "            \n",
    "      if not pause:\n",
    "            dic = next_dic(dic, (len(matrix), len(matrix[0])))\n",
    "            drawGame()\n",
    "          \n",
    "pygame.quit()   "
   ]
  }
 ],
 "metadata": {
  "kernelspec": {
   "display_name": "Python 3",
   "language": "python",
   "name": "python3"
  },
  "language_info": {
   "codemirror_mode": {
    "name": "ipython",
    "version": 3
   },
   "file_extension": ".py",
   "mimetype": "text/x-python",
   "name": "python",
   "nbconvert_exporter": "python",
   "pygments_lexer": "ipython3",
   "version": "3.10.11"
  }
 },
 "nbformat": 4,
 "nbformat_minor": 2
}
