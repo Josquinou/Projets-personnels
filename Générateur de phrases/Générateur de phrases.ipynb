{
 "cells": [
  {
   "cell_type": "code",
   "execution_count": 1,
   "metadata": {},
   "outputs": [],
   "source": [
    "import numpy as np\n",
    "from pathlib import Path"
   ]
  },
  {
   "cell_type": "markdown",
   "metadata": {},
   "source": [
    "## Isolation des mots"
   ]
  },
  {
   "cell_type": "markdown",
   "metadata": {},
   "source": [
    "En tout premier lieu, on veut isoler les mots les uns des autres pour pouvoir les manipuler. Certains caractères de ponctuation, comme les deux points ou la virgule, seront volontairement traités comme des mots pour fluidifier les phrases et simplifier les programmes."
   ]
  },
  {
   "cell_type": "code",
   "execution_count": 2,
   "metadata": {},
   "outputs": [],
   "source": [
    "cwd = Path.cwd().as_posix() + '/textsFolder/'\n",
    "\n",
    "def read_text(fileName):\n",
    "    \"\"\"Fonction pour lire un document .txt\"\"\"\n",
    "    with open(cwd + fileName, 'r', encoding='utf-8') as file:\n",
    "        text = file.read()\n",
    "    return text"
   ]
  },
  {
   "cell_type": "code",
   "execution_count": 3,
   "metadata": {},
   "outputs": [],
   "source": [
    "def text_to_list(fileName):\n",
    "    \"\"\"Converti un .txt en une liste de mots et de ponctuation, en gardant le même ordre\"\"\"\n",
    "    text = read_text(fileName)\n",
    "    word = str()\n",
    "    end_word = [' ', '\\n', '.', ',', '!', ':', '?', '(', ')', '/', '*', \"'\", '-'] #n'importe quel caractère qui assure qu'on est à la fin d'un mot\n",
    "    list_of_words = list()\n",
    "    \n",
    "    for i in range(len(text)):\n",
    "        if text[i] in end_word:\n",
    "            if word != str():\n",
    "                list_of_words.append(word)\n",
    "                word = str()\n",
    "            if text[i] in ['.', '?', '!', ',', ':', ';']: #si on touche à cette liste, on doit changer de matrices\n",
    "                list_of_words.append(text[i])\n",
    "        else:\n",
    "            word += text[i].lower() # convertit tous les caractères en minuscule\n",
    "    return list_of_words"
   ]
  },
  {
   "cell_type": "markdown",
   "metadata": {},
   "source": [
    "## Construction de la matrice de probabilité"
   ]
  },
  {
   "cell_type": "markdown",
   "metadata": {},
   "source": [
    "L'idée ici est de créer une liste de tous les mots que nous pouvons rencontrer, avec une seule fois chaque mot.\n",
    "On peut ensuite créer une matrice de probabilités du passage d'un mot au suivant. On étendra ensuite le procédé en tenant compte des n mots précédents."
   ]
  },
  {
   "cell_type": "code",
   "execution_count": 4,
   "metadata": {},
   "outputs": [],
   "source": [
    "def sort_list(text):\n",
    "    \"\"\"Trie une list par ordre alphabétique et supprime les doublons\"\"\"\n",
    "    return sorted(list(set(text_to_list(text))))\n",
    "\n",
    "#On vire les éléments redondants en passant par un Set, et on trie par ordre alphabétique avec la fonction sorted()\n"
   ]
  },
  {
   "cell_type": "markdown",
   "metadata": {},
   "source": [
    "### Matrice des n-1\n",
    "Dans un premier temps, on ne regarde que la probabilité de passage d'un mot au suivant"
   ]
  },
  {
   "cell_type": "markdown",
   "metadata": {},
   "source": [
    "Création de la matrice:"
   ]
  },
  {
   "cell_type": "code",
   "execution_count": 5,
   "metadata": {},
   "outputs": [],
   "source": [
    "def give_probability_matrix_1(text = 'test4.txt'):\n",
    "    \"\"\"Renvoie la matrice de probabilité en tenant compte de n-1\"\"\"\n",
    "    list_of_words = sort_list(text)\n",
    "    n = len(list_of_words)\n",
    "    matrix = np.zeros((n,n))\n",
    "    for i in range(len(text_to_list(text)) - 1):\n",
    "        idx_word = list_of_words.index(text_to_list(text)[i]) # on cherche l'emplacement du mot dans la liste de mots bien rangée\n",
    "        idx_next_word = list_of_words.index(text_to_list(text)[i+1])\n",
    "        matrix[idx_word, idx_next_word] += 1\n",
    "    return matrix\n",
    "    \n",
    "    "
   ]
  },
  {
   "cell_type": "code",
   "execution_count": 6,
   "metadata": {},
   "outputs": [],
   "source": [
    "def saveMatrix(matrix, fileName): # on enregistre la matrice pour pouvoir la réutiliser sans avoir à la recalculer\n",
    "    np.save(fileName, matrix)"
   ]
  },
  {
   "cell_type": "code",
   "execution_count": 7,
   "metadata": {},
   "outputs": [],
   "source": [
    "#matrix1 = give_probability_matrix_1('test4.txt')\n",
    "#saveMatrix(matrix1, 'matrix1.npy')\n",
    "# une fois la matrice générée, on ne veut plus toucher à ces fonctions"
   ]
  },
  {
   "cell_type": "markdown",
   "metadata": {},
   "source": [
    "### Matrice des n-2\n",
    "On modifie les programmes précédents de manière à prendre en compte les 2 mots précédents pour le calcul des probabilités du mot suivant"
   ]
  },
  {
   "cell_type": "code",
   "execution_count": 8,
   "metadata": {},
   "outputs": [],
   "source": [
    "def assort_consecutive_words(text):\n",
    "    \"\"\"Convertit un text en tuples de mots consécutifs (chaque mot est dans un tuple avec le précédent et le suivant)\"\"\"\n",
    "    list_of_words = text_to_list(text)\n",
    "    return [(list_of_words[i], list_of_words[i+1]) for i in range(len(list_of_words)-1)]"
   ]
  },
  {
   "cell_type": "code",
   "execution_count": 9,
   "metadata": {},
   "outputs": [],
   "source": [
    "def give_probability_matrix_2(text = 'test4.txt'):\n",
    "    \"\"\"Renvoie la matrice de probabilité en tenant compte de n-1 et n-2\"\"\"\n",
    "    list_of_two_words = assort_consecutive_words(text)\n",
    "    sorted_list_of_two_words = sorted(list(set(list_of_two_words)))\n",
    "    n = len(sorted_list_of_two_words)\n",
    "    matrix = np.zeros((n,n))\n",
    "    for i in range(n - 1):\n",
    "        idx_word = sorted_list_of_two_words.index(list_of_two_words[i]) # on cherche l'emplacement du mot dans la liste de mots bien rangée\n",
    "        idx_next_word = sorted_list_of_two_words.index(list_of_two_words[i+1])\n",
    "        matrix[idx_word, idx_next_word] += 1\n",
    "    return matrix"
   ]
  },
  {
   "cell_type": "markdown",
   "metadata": {},
   "source": [
    "A présent, une fois les matrices calculées, on n'aura qu'à exécuter les programmes en dessous"
   ]
  },
  {
   "cell_type": "markdown",
   "metadata": {},
   "source": [
    "## Utilisation de la matrice de probabilité"
   ]
  },
  {
   "cell_type": "code",
   "execution_count": 10,
   "metadata": {},
   "outputs": [],
   "source": [
    "def load_matrix(fileName):\n",
    "    return np.load(fileName)"
   ]
  },
  {
   "cell_type": "code",
   "execution_count": 11,
   "metadata": {},
   "outputs": [],
   "source": [
    "matrix = load_matrix('matrix1.npy')"
   ]
  },
  {
   "cell_type": "code",
   "execution_count": 12,
   "metadata": {},
   "outputs": [],
   "source": [
    "\n",
    "def get_all_first_words(text = 'test4.txt'):\n",
    "    \"\"\"Renvoie la liste de tous les mots qui débutent une phrase\"\"\"\n",
    "    list_of_words = text_to_list(text)\n",
    "    l = list()\n",
    "    l.append(list_of_words[0])\n",
    "    for i in range(1, len(list_of_words)):\n",
    "        if list_of_words[i-1] in ['.', '?', '!']:\n",
    "            l.append(list_of_words[i])\n",
    "    return l"
   ]
  },
  {
   "cell_type": "code",
   "execution_count": 13,
   "metadata": {},
   "outputs": [],
   "source": [
    "def sentence_generator1(matrix, text = 'test4.txt'):\n",
    "    \"\"\"Renvoie une phrase générée aléatoirement à partir d'une matrice de probabilités\n",
    "    La probabilité de choix d'un mot ne dépend que du mot précédent\"\"\"\n",
    "    sentence = list()\n",
    "    word = np.random.choice(get_all_first_words(text))\n",
    "    sentence.append(word)\n",
    "    while word not in ['.', '?', '!']:\n",
    "        idx = sort_list(text).index(word)\n",
    "        word = np.random.choice(sort_list(text),1, p=matrix[idx]/np.sum(matrix[idx]))\n",
    "        sentence.append(word[0])\n",
    "    sentence_in_str = str()\n",
    "    for word in sentence:\n",
    "        sentence_in_str += word + ' '\n",
    "    return sentence_in_str"
   ]
  },
  {
   "cell_type": "markdown",
   "metadata": {},
   "source": [
    "#### Programme réajusté pour n = 2\n",
    "On réajuste le programme pour que la proba d'un mot prenne en compte les deux mots précédents"
   ]
  },
  {
   "cell_type": "code",
   "execution_count": 14,
   "metadata": {},
   "outputs": [],
   "source": [
    "def sort_list_of_set(text = 'test4.txt'):\n",
    "    \"\"\"renvoie une liste ordonée sans doublons de tuples de mots consécutifs issus du texte\"\"\"\n",
    "    list_of_one_word = text_to_list(text)\n",
    "    return sorted(list(set([(list_of_one_word[i], list_of_one_word[i+1]) for i in range(len(list_of_one_word)-1)])))"
   ]
  },
  {
   "cell_type": "code",
   "execution_count": 15,
   "metadata": {},
   "outputs": [],
   "source": [
    "def get_all_first_two_words(text = 'test4.txt'):\n",
    "    \"\"\"On se servira de cette fonction pour commencer nos phrase avec un premier mot crédible. Cette fonction renvoie donc la liste de tous les mots qui débutent une phrase\"\"\"\n",
    "    list_of_simple_words = text_to_list(text)\n",
    "    list_of_two_words = [(list_of_simple_words[i], list_of_simple_words[i+1]) for i in range(len(list_of_simple_words)-1)]\n",
    "    l = list()\n",
    "    l.append(list_of_two_words[0])\n",
    "    for i in range(1, len(list_of_two_words)):\n",
    "        if list_of_two_words[i-1][0] in ['.', '?', '!']:\n",
    "            l.append(list_of_two_words[i])\n",
    "    return l"
   ]
  },
  {
   "cell_type": "code",
   "execution_count": 16,
   "metadata": {},
   "outputs": [],
   "source": [
    "def sentenceGenerator2(matrix, text = 'test4.txt'):\n",
    "    \"\"\"Génère aléatoirement des phrases d'après une matrice de probabilité qui tient compte des deux précédents mots\"\"\"\n",
    "    sentence = list()\n",
    "    i = np.random.randint(0,len(get_all_first_two_words(text)),1)[0]\n",
    "    words = get_all_first_two_words(text)[i]\n",
    "    sentence.append(words[0])\n",
    "    words_set = sort_list_of_set(text)\n",
    "    while words[-1] not in ['.', '?', '!']:\n",
    "        idx = words_set.index(words)\n",
    "        i = np.random.choice(len(words_set),1, p=matrix[idx]/np.sum(matrix[idx]))[0]\n",
    "        words = words_set[i]\n",
    "        sentence.append(words[0])\n",
    "    sentence_as_str = str()\n",
    "    for word in sentence:\n",
    "        sentence_as_str += str(word) + ' '\n",
    "    return sentence_as_str"
   ]
  },
  {
   "cell_type": "code",
   "execution_count": 17,
   "metadata": {},
   "outputs": [],
   "source": [
    "matrix2 = give_probability_matrix_2('test4.txt')"
   ]
  },
  {
   "cell_type": "markdown",
   "metadata": {},
   "source": [
    "Et voilà le résultat final:"
   ]
  },
  {
   "cell_type": "code",
   "execution_count": 18,
   "metadata": {},
   "outputs": [
    {
     "data": {
      "text/plain": [
       "'ils se précipitaient de leurs maisons pour courir en foule à la porte d une mauvaise hôtellerie , devant laquelle étaient deux chariots couverts '"
      ]
     },
     "execution_count": 18,
     "metadata": {},
     "output_type": "execute_result"
    }
   ],
   "source": [
    "sentenceGenerator2(matrix2, 'test4.txt')"
   ]
  },
  {
   "cell_type": "markdown",
   "metadata": {},
   "source": [
    "### Conclusion\n",
    "On voit que le programme est très limité. La plupart du temps, il ne fait que rabouter deux phrases préexistantes. Cependant, avec une meilleure puissance de calcul, il serait possible de construire de plus grandes matrices de probabilités, tenant compte de plus de mots précédents pour le choix du mot suivant (pour assurer des phrases cohérentes) et d'un plus grand jeu de données (pour des phrases plus détachées du texte de référence)."
   ]
  }
 ],
 "metadata": {
  "kernelspec": {
   "display_name": "Python 3",
   "language": "python",
   "name": "python3"
  },
  "language_info": {
   "codemirror_mode": {
    "name": "ipython",
    "version": 3
   },
   "file_extension": ".py",
   "mimetype": "text/x-python",
   "name": "python",
   "nbconvert_exporter": "python",
   "pygments_lexer": "ipython3",
   "version": "3.10.11"
  }
 },
 "nbformat": 4,
 "nbformat_minor": 2
}
